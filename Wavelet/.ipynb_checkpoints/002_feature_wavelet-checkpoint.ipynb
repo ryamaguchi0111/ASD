{
 "cells": [
  {
   "cell_type": "code",
   "execution_count": 1,
   "metadata": {},
   "outputs": [
    {
     "name": "stderr",
     "output_type": "stream",
     "text": [
      "/usr/local/lib/python3.6/dist-packages/matplotlib/__init__.py:886: MatplotlibDeprecationWarning: \n",
      "examples.directory is deprecated; in the future, examples will be found relative to the 'datapath' directory.\n",
      "  \"found relative to the 'datapath' directory.\".format(key))\n",
      "/usr/local/lib/python3.6/dist-packages/librosa/util/decorators.py:9: NumbaDeprecationWarning: An import was requested from a module that has moved location.\n",
      "Import of 'jit' requested from: 'numba.decorators', please update to use 'numba.core.decorators' or pin to Numba version 0.48.0. This alias will not be present in Numba version 0.50.0.\n",
      "  from numba.decorators import jit as optional_jit\n"
     ]
    }
   ],
   "source": [
    "import os\n",
    "import sys\n",
    "import numpy as np\n",
    "import pandas as pd\n",
    "import matplotlib.pyplot as plt\n",
    "import seaborn as sns\n",
    "import pywt\n",
    "import librosa\n",
    "import glob\n",
    "import IPython.display as ipd"
   ]
  },
  {
   "cell_type": "code",
   "execution_count": 2,
   "metadata": {},
   "outputs": [],
   "source": [
    "sns.set_style('white')"
   ]
  },
  {
   "cell_type": "code",
   "execution_count": 3,
   "metadata": {},
   "outputs": [],
   "source": [
    "lib_path = '/work-hmcomm/fastd-learning/src'\n",
    "sys.path.insert(0, lib_path)\n",
    "\n",
    "from util.util import parse_audio_from_wav"
   ]
  },
  {
   "cell_type": "markdown",
   "metadata": {},
   "source": [
    "::::::::::::::::::::::::::::::::  \n",
    "### 正常音を連続wavelet変換し、特定のスケールのパーセンタイルを基に閾値を設けてみる  \n",
    ":::::::::::::::::::::::::::::::: "
   ]
  },
  {
   "cell_type": "code",
   "execution_count": 4,
   "metadata": {},
   "outputs": [],
   "source": [
    "wav_dir = '/work-hmcomm/project/nedo2020_yokogawa/data/PilotPlant_Experiments_2020-0309/wav_mixing/'\n",
    "location_list = ['5']\n",
    "experiment_list = ['02', '03', '04', '05', '07', '08', '09', '10']\n",
    "feature_dir = '../feature/'\n",
    "\n",
    "fs = 96000"
   ]
  },
  {
   "cell_type": "code",
   "execution_count": 22,
   "metadata": {},
   "outputs": [],
   "source": [
    "cwt_width = np.arange(1, 7)\n",
    "\n",
    "for location in location_list:\n",
    "    for experiment in experiment_list:\n",
    "        norm_list = sorted(glob.glob(wav_dir + 'norm/2020-03-06_' + location + '_ZOOM-H06_Exp' + experiment +'*.wav'))\n",
    "\n",
    "        cwtmatr_list = np.empty((6, 0))\n",
    "        for i, norm in enumerate(norm_list):\n",
    "            freq, data = parse_audio_from_wav(norm, fs)\n",
    "            data_l = data[:, 0]\n",
    "            cwtmatr, freq = pywt.cwt(data_l, cwt_width, 'mexh', method='fft')\n",
    "            cwtmatr_list = np.append(cwtmatr_list, cwtmatr, axis=1)\n",
    "        file_name = feature_dir + '2020-03-06_' + location + '_ZOOM-H06_Exp' + experiment +'_cwt-scale-1-6-mexh'\n",
    "        np.save(file_name, cwtmatr_list)"
   ]
  },
  {
   "cell_type": "code",
   "execution_count": 21,
   "metadata": {},
   "outputs": [
    {
     "data": {
      "text/plain": [
       "(6, 96000000)"
      ]
     },
     "execution_count": 21,
     "metadata": {},
     "output_type": "execute_result"
    }
   ],
   "source": [
    "cwtmatr_list.shape"
   ]
  },
  {
   "cell_type": "code",
   "execution_count": 23,
   "metadata": {},
   "outputs": [],
   "source": [
    "cwtmatr_all = np.empty((6, 0))\n",
    "for location in location_list:\n",
    "    for experiment in experiment_list:\n",
    "        cwtmatr = np.load(feature_dir + '2020-03-06_' + location + '_ZOOM-H06_Exp' + experiment +'_cwt-scale-1-6-mexh.npy')\n",
    "        cwtmatr_all = np.append(cwtmatr_all, cwtmatr, axis=1)"
   ]
  },
  {
   "cell_type": "code",
   "execution_count": 24,
   "metadata": {},
   "outputs": [
    {
     "data": {
      "text/plain": [
       "(6, 768000000)"
      ]
     },
     "execution_count": 24,
     "metadata": {},
     "output_type": "execute_result"
    }
   ],
   "source": [
    "cwtmatr_all.shape"
   ]
  },
  {
   "cell_type": "code",
   "execution_count": 29,
   "metadata": {},
   "outputs": [],
   "source": [
    "cwt_s5_per99 = np.percentile(cwtmatr_all[5], 99)\n",
    "cwt_s4_per99 = np.percentile(cwtmatr_all[4], 99)\n",
    "cwt_s5_per98 = np.percentile(cwtmatr_all[5], 98)\n",
    "cwt_s4_per98 = np.percentile(cwtmatr_all[4], 98)\n",
    "cwt_s5_per95 = np.percentile(cwtmatr_all[5], 95)\n",
    "cwt_s4_per95 = np.percentile(cwtmatr_all[4], 95)"
   ]
  },
  {
   "cell_type": "code",
   "execution_count": 30,
   "metadata": {},
   "outputs": [
    {
     "data": {
      "text/plain": [
       "(1757940260.3088818,\n",
       " 1564203878.3950493,\n",
       " 1518049732.3740435,\n",
       " 1346653304.501287,\n",
       " 1171187808.9026852,\n",
       " 1035523590.5582987)"
      ]
     },
     "execution_count": 30,
     "metadata": {},
     "output_type": "execute_result"
    }
   ],
   "source": [
    "cwt_s5_per99, cwt_s4_per99 , cwt_s5_per98 , cwt_s4_per98 , cwt_s5_per95 , cwt_s4_per95"
   ]
  },
  {
   "cell_type": "code",
   "execution_count": null,
   "metadata": {},
   "outputs": [],
   "source": []
  }
 ],
 "metadata": {
  "kernelspec": {
   "display_name": "Python 3",
   "language": "python",
   "name": "python3"
  },
  "language_info": {
   "codemirror_mode": {
    "name": "ipython",
    "version": 3
   },
   "file_extension": ".py",
   "mimetype": "text/x-python",
   "name": "python",
   "nbconvert_exporter": "python",
   "pygments_lexer": "ipython3",
   "version": "3.6.10"
  }
 },
 "nbformat": 4,
 "nbformat_minor": 4
}
