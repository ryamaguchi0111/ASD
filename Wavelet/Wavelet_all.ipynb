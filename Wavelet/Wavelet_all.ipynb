{
 "cells": [
  {
   "cell_type": "code",
   "execution_count": 6,
   "metadata": {},
   "outputs": [],
   "source": [
    "import sys\n",
    "\n",
    "lib_path = '/work-hmcomm/project/nedo2020_yokogawa/Git/yokogawa_knikaido/fastd-learning/src'\n",
    "sys.path.insert(0, lib_path)\n",
    "\n",
    "import numpy as np\n",
    "import numpy # Since some code's been cut and pasted from elsewhere we need this too \n",
    "import os\n",
    "import matplotlib.pyplot as plt\n",
    "import glob\n",
    "import pickle\n",
    "import scipy.fftpack as spfft\n",
    "from scipy import signal\n",
    "import librosa\n",
    "import librosa.display\n",
    "from tqdm import tqdm\n",
    "import pywt\n",
    "\n",
    "import pandas as pd"
   ]
  },
  {
   "cell_type": "code",
   "execution_count": 7,
   "metadata": {},
   "outputs": [],
   "source": [
    "from util.util import parse_audio_from_wav\n",
    "from feature.feature_mfcc import FeatureMfcc"
   ]
  },
  {
   "cell_type": "code",
   "execution_count": 8,
   "metadata": {},
   "outputs": [],
   "source": [
    "savepath = '/work-hmcomm/project/nedo2020_yokogawa/data/PilotPlant_Experiments_2020-0309/feature/extracted_on_2020-06-01_scalogram/'\n",
    "\n",
    "fs = 96000"
   ]
  },
  {
   "cell_type": "code",
   "execution_count": 9,
   "metadata": {},
   "outputs": [
    {
     "data": {
      "text/plain": [
       "['/work-hmcomm/project/nedo2020_yokogawa/data/PilotPlant_Experiments_2020-0309/wav_cut/2020-03-06_1_ZOOM-H06_Exp02.wav',\n",
       " '/work-hmcomm/project/nedo2020_yokogawa/data/PilotPlant_Experiments_2020-0309/wav_cut/2020-03-06_1_ZOOM-H06_Exp03.wav',\n",
       " '/work-hmcomm/project/nedo2020_yokogawa/data/PilotPlant_Experiments_2020-0309/wav_cut/2020-03-06_1_ZOOM-H06_Exp04.wav',\n",
       " '/work-hmcomm/project/nedo2020_yokogawa/data/PilotPlant_Experiments_2020-0309/wav_cut/2020-03-06_1_ZOOM-H06_Exp05.wav',\n",
       " '/work-hmcomm/project/nedo2020_yokogawa/data/PilotPlant_Experiments_2020-0309/wav_cut/2020-03-06_1_ZOOM-H06_Exp06.wav',\n",
       " '/work-hmcomm/project/nedo2020_yokogawa/data/PilotPlant_Experiments_2020-0309/wav_cut/2020-03-06_1_ZOOM-H06_Exp07.wav',\n",
       " '/work-hmcomm/project/nedo2020_yokogawa/data/PilotPlant_Experiments_2020-0309/wav_cut/2020-03-06_1_ZOOM-H06_Exp08.wav',\n",
       " '/work-hmcomm/project/nedo2020_yokogawa/data/PilotPlant_Experiments_2020-0309/wav_cut/2020-03-06_1_ZOOM-H06_Exp09.wav',\n",
       " '/work-hmcomm/project/nedo2020_yokogawa/data/PilotPlant_Experiments_2020-0309/wav_cut/2020-03-06_1_ZOOM-H06_Exp10.wav',\n",
       " '/work-hmcomm/project/nedo2020_yokogawa/data/PilotPlant_Experiments_2020-0309/wav_cut/2020-03-06_1_ZOOM-H06_Exp11.wav',\n",
       " '/work-hmcomm/project/nedo2020_yokogawa/data/PilotPlant_Experiments_2020-0309/wav_cut/2020-03-06_5_ZOOM-H06_Exp02.wav',\n",
       " '/work-hmcomm/project/nedo2020_yokogawa/data/PilotPlant_Experiments_2020-0309/wav_cut/2020-03-06_5_ZOOM-H06_Exp03.wav',\n",
       " '/work-hmcomm/project/nedo2020_yokogawa/data/PilotPlant_Experiments_2020-0309/wav_cut/2020-03-06_5_ZOOM-H06_Exp04.wav',\n",
       " '/work-hmcomm/project/nedo2020_yokogawa/data/PilotPlant_Experiments_2020-0309/wav_cut/2020-03-06_5_ZOOM-H06_Exp05.wav',\n",
       " '/work-hmcomm/project/nedo2020_yokogawa/data/PilotPlant_Experiments_2020-0309/wav_cut/2020-03-06_5_ZOOM-H06_Exp06.wav',\n",
       " '/work-hmcomm/project/nedo2020_yokogawa/data/PilotPlant_Experiments_2020-0309/wav_cut/2020-03-06_5_ZOOM-H06_Exp07.wav',\n",
       " '/work-hmcomm/project/nedo2020_yokogawa/data/PilotPlant_Experiments_2020-0309/wav_cut/2020-03-06_5_ZOOM-H06_Exp08.wav',\n",
       " '/work-hmcomm/project/nedo2020_yokogawa/data/PilotPlant_Experiments_2020-0309/wav_cut/2020-03-06_5_ZOOM-H06_Exp09.wav',\n",
       " '/work-hmcomm/project/nedo2020_yokogawa/data/PilotPlant_Experiments_2020-0309/wav_cut/2020-03-06_5_ZOOM-H06_Exp10.wav',\n",
       " '/work-hmcomm/project/nedo2020_yokogawa/data/PilotPlant_Experiments_2020-0309/wav_cut/2020-03-06_5_ZOOM-H06_Exp11.wav',\n",
       " '/work-hmcomm/project/nedo2020_yokogawa/data/PilotPlant_Experiments_2020-0309/wav_cut/2020-03-06_6_TAS-D100_Exp02.wav',\n",
       " '/work-hmcomm/project/nedo2020_yokogawa/data/PilotPlant_Experiments_2020-0309/wav_cut/2020-03-06_6_TAS-D100_Exp03.wav',\n",
       " '/work-hmcomm/project/nedo2020_yokogawa/data/PilotPlant_Experiments_2020-0309/wav_cut/2020-03-06_6_TAS-D100_Exp04.wav',\n",
       " '/work-hmcomm/project/nedo2020_yokogawa/data/PilotPlant_Experiments_2020-0309/wav_cut/2020-03-06_6_TAS-D100_Exp05.wav',\n",
       " '/work-hmcomm/project/nedo2020_yokogawa/data/PilotPlant_Experiments_2020-0309/wav_cut/2020-03-06_6_TAS-D100_Exp06.wav',\n",
       " '/work-hmcomm/project/nedo2020_yokogawa/data/PilotPlant_Experiments_2020-0309/wav_cut/2020-03-06_6_TAS-D100_Exp07.wav',\n",
       " '/work-hmcomm/project/nedo2020_yokogawa/data/PilotPlant_Experiments_2020-0309/wav_cut/2020-03-06_6_TAS-D100_Exp08.wav',\n",
       " '/work-hmcomm/project/nedo2020_yokogawa/data/PilotPlant_Experiments_2020-0309/wav_cut/2020-03-06_6_TAS-D100_Exp09.wav',\n",
       " '/work-hmcomm/project/nedo2020_yokogawa/data/PilotPlant_Experiments_2020-0309/wav_cut/2020-03-06_6_TAS-D100_Exp10.wav',\n",
       " '/work-hmcomm/project/nedo2020_yokogawa/data/PilotPlant_Experiments_2020-0309/wav_cut/2020-03-06_6_TAS-D100_Exp11.wav',\n",
       " '/work-hmcomm/project/nedo2020_yokogawa/data/PilotPlant_Experiments_2020-0309/wav_cut/2020-03-06_2_ZOOM-H06_Exp02.wav',\n",
       " '/work-hmcomm/project/nedo2020_yokogawa/data/PilotPlant_Experiments_2020-0309/wav_cut/2020-03-06_2_ZOOM-H06_Exp03.wav',\n",
       " '/work-hmcomm/project/nedo2020_yokogawa/data/PilotPlant_Experiments_2020-0309/wav_cut/2020-03-06_2_ZOOM-H06_Exp04.wav',\n",
       " '/work-hmcomm/project/nedo2020_yokogawa/data/PilotPlant_Experiments_2020-0309/wav_cut/2020-03-06_2_ZOOM-H06_Exp05.wav',\n",
       " '/work-hmcomm/project/nedo2020_yokogawa/data/PilotPlant_Experiments_2020-0309/wav_cut/2020-03-06_2_ZOOM-H06_Exp06.wav',\n",
       " '/work-hmcomm/project/nedo2020_yokogawa/data/PilotPlant_Experiments_2020-0309/wav_cut/2020-03-06_2_ZOOM-H06_Exp07.wav',\n",
       " '/work-hmcomm/project/nedo2020_yokogawa/data/PilotPlant_Experiments_2020-0309/wav_cut/2020-03-06_2_ZOOM-H06_Exp08.wav',\n",
       " '/work-hmcomm/project/nedo2020_yokogawa/data/PilotPlant_Experiments_2020-0309/wav_cut/2020-03-06_2_ZOOM-H06_Exp09.wav',\n",
       " '/work-hmcomm/project/nedo2020_yokogawa/data/PilotPlant_Experiments_2020-0309/wav_cut/2020-03-06_2_ZOOM-H06_Exp10.wav',\n",
       " '/work-hmcomm/project/nedo2020_yokogawa/data/PilotPlant_Experiments_2020-0309/wav_cut/2020-03-06_2_ZOOM-H06_Exp11.wav',\n",
       " '/work-hmcomm/project/nedo2020_yokogawa/data/PilotPlant_Experiments_2020-0309/wav_cut/2020-03-06_3_PCM-D100_Exp02.wav',\n",
       " '/work-hmcomm/project/nedo2020_yokogawa/data/PilotPlant_Experiments_2020-0309/wav_cut/2020-03-06_3_PCM-D100_Exp03.wav',\n",
       " '/work-hmcomm/project/nedo2020_yokogawa/data/PilotPlant_Experiments_2020-0309/wav_cut/2020-03-06_3_PCM-D100_Exp04.wav',\n",
       " '/work-hmcomm/project/nedo2020_yokogawa/data/PilotPlant_Experiments_2020-0309/wav_cut/2020-03-06_3_PCM-D100_Exp05.wav',\n",
       " '/work-hmcomm/project/nedo2020_yokogawa/data/PilotPlant_Experiments_2020-0309/wav_cut/2020-03-06_3_PCM-D100_Exp06.wav',\n",
       " '/work-hmcomm/project/nedo2020_yokogawa/data/PilotPlant_Experiments_2020-0309/wav_cut/2020-03-06_3_PCM-D100_Exp07.wav',\n",
       " '/work-hmcomm/project/nedo2020_yokogawa/data/PilotPlant_Experiments_2020-0309/wav_cut/2020-03-06_3_PCM-D100_Exp08.wav',\n",
       " '/work-hmcomm/project/nedo2020_yokogawa/data/PilotPlant_Experiments_2020-0309/wav_cut/2020-03-06_3_PCM-D100_Exp09.wav',\n",
       " '/work-hmcomm/project/nedo2020_yokogawa/data/PilotPlant_Experiments_2020-0309/wav_cut/2020-03-06_3_PCM-D100_Exp10.wav',\n",
       " '/work-hmcomm/project/nedo2020_yokogawa/data/PilotPlant_Experiments_2020-0309/wav_cut/2020-03-06_3_PCM-D100_Exp11.wav',\n",
       " '/work-hmcomm/project/nedo2020_yokogawa/data/PilotPlant_Experiments_2020-0309/wav_cut/2020-03-06_4_TAS-D040_Exp02.wav',\n",
       " '/work-hmcomm/project/nedo2020_yokogawa/data/PilotPlant_Experiments_2020-0309/wav_cut/2020-03-06_4_TAS-D040_Exp03.wav',\n",
       " '/work-hmcomm/project/nedo2020_yokogawa/data/PilotPlant_Experiments_2020-0309/wav_cut/2020-03-06_4_TAS-D040_Exp04.wav',\n",
       " '/work-hmcomm/project/nedo2020_yokogawa/data/PilotPlant_Experiments_2020-0309/wav_cut/2020-03-06_4_TAS-D040_Exp05.wav',\n",
       " '/work-hmcomm/project/nedo2020_yokogawa/data/PilotPlant_Experiments_2020-0309/wav_cut/2020-03-06_4_TAS-D040_Exp06.wav',\n",
       " '/work-hmcomm/project/nedo2020_yokogawa/data/PilotPlant_Experiments_2020-0309/wav_cut/2020-03-06_4_TAS-D040_Exp07.wav',\n",
       " '/work-hmcomm/project/nedo2020_yokogawa/data/PilotPlant_Experiments_2020-0309/wav_cut/2020-03-06_4_TAS-D040_Exp08.wav',\n",
       " '/work-hmcomm/project/nedo2020_yokogawa/data/PilotPlant_Experiments_2020-0309/wav_cut/2020-03-06_4_TAS-D040_Exp09.wav',\n",
       " '/work-hmcomm/project/nedo2020_yokogawa/data/PilotPlant_Experiments_2020-0309/wav_cut/2020-03-06_4_TAS-D040_Exp10.wav',\n",
       " '/work-hmcomm/project/nedo2020_yokogawa/data/PilotPlant_Experiments_2020-0309/wav_cut/2020-03-06_4_TAS-D040_Exp11.wav']"
      ]
     },
     "execution_count": 9,
     "metadata": {},
     "output_type": "execute_result"
    }
   ],
   "source": [
    "wav_list = sorted(glob.glob('/work-hmcomm/project/nedo2020_yokogawa/data/PilotPlant_Experiments_2020-0309/wav_cut/*_1_*.wav'))\n",
    "wav_list.extend(sorted(glob.glob('/work-hmcomm/project/nedo2020_yokogawa/data/PilotPlant_Experiments_2020-0309/wav_cut/*_5_*.wav')))\n",
    "wav_list.extend(sorted(glob.glob('/work-hmcomm/project/nedo2020_yokogawa/data/PilotPlant_Experiments_2020-0309/wav_cut/*_6_*.wav')))\n",
    "wav_list.extend(sorted(glob.glob('/work-hmcomm/project/nedo2020_yokogawa/data/PilotPlant_Experiments_2020-0309/wav_cut/*_2_*.wav')))\n",
    "wav_list.extend(sorted(glob.glob('/work-hmcomm/project/nedo2020_yokogawa/data/PilotPlant_Experiments_2020-0309/wav_cut/*_3_*.wav')))\n",
    "wav_list.extend(sorted(glob.glob('/work-hmcomm/project/nedo2020_yokogawa/data/PilotPlant_Experiments_2020-0309/wav_cut/*_4_*.wav')))\n",
    "# wav_list.pop(5)\n",
    "wav_list"
   ]
  },
  {
   "cell_type": "code",
   "execution_count": 10,
   "metadata": {},
   "outputs": [
    {
     "name": "stderr",
     "output_type": "stream",
     "text": [
      "100%|██████████| 6/6 [00:00<00:00, 1936.28it/s]"
     ]
    },
    {
     "name": "stdout",
     "output_type": "stream",
     "text": [
      "[2.71828183 3.15819291 3.66929667 4.26311452 4.95303242 5.75460268\n",
      " 6.68589444]\n",
      "[ 7.3890561   8.5848584   9.97418245 11.58834672 13.46373804 15.64263188\n",
      " 18.17414537]\n",
      "[20.08553692 23.33606458 27.11263892 31.50039231 36.59823444 42.521082\n",
      " 49.40244911]\n",
      "[ 54.59815003  63.4340003   73.6997937   85.626944    99.48431564\n",
      " 115.58428453 134.28977968]\n",
      "[148.4131591  164.0219073  181.27224188 200.33680997 221.4064162\n",
      " 244.69193226 270.42640743 298.86740097 330.29955991 365.03746787]\n",
      "[403.42879349 445.85777008 492.74904109 544.57191013 601.84503787\n",
      " 665.14163304 735.09518924 812.40582517 897.84729165 992.27471561]\n"
     ]
    },
    {
     "name": "stderr",
     "output_type": "stream",
     "text": [
      "\n"
     ]
    },
    {
     "data": {
      "text/plain": [
       "array([  2.71828183,   3.00416602,   3.32011692,   3.66929667,\n",
       "         4.05519997,   4.48168907,   4.95303242,   5.47394739,\n",
       "         6.04964746,   6.68589444,   7.3890561 ,   8.16616991,\n",
       "         9.0250135 ,   9.97418245,  11.02317638,  12.18249396,\n",
       "        13.46373804,  14.87973172,  16.44464677,  18.17414537,\n",
       "        20.08553692,  22.19795128,  24.5325302 ,  27.11263892,\n",
       "        29.96410005,  33.11545196,  36.59823444,  40.44730436,\n",
       "        44.70118449,  49.40244911,  54.59815003,  60.3402876 ,\n",
       "        66.68633104,  73.6997937 ,  81.45086866,  90.0171313 ,\n",
       "        99.48431564, 109.94717245, 121.51041752, 134.28977968,\n",
       "       148.4131591 , 164.0219073 , 181.27224188, 200.33680997,\n",
       "       221.4064162 , 244.69193226, 270.42640743, 298.86740097,\n",
       "       330.29955991, 365.03746787, 403.42879349, 445.85777008,\n",
       "       492.74904109, 544.57191013, 601.84503787, 665.14163304,\n",
       "       735.09518924, 812.40582517, 897.84729165, 992.27471561])"
      ]
     },
     "execution_count": 10,
     "metadata": {},
     "output_type": "execute_result"
    }
   ],
   "source": [
    "\n",
    "for j in tqdm(np.arange(1, 7)):\n",
    "    if(j<=4):\n",
    "        widths = np.exp(np.arange(j, j+1, 0.15))\n",
    "    else:\n",
    "        widths = np.exp(np.arange(j, j+1, 0.1))\n",
    "    print(widths)\n",
    "widths = np.exp(np.arange(1, 7, 0.1))\n",
    "widths"
   ]
  },
  {
   "cell_type": "code",
   "execution_count": 11,
   "metadata": {},
   "outputs": [
    {
     "name": "stderr",
     "output_type": "stream",
     "text": [
      "100%|██████████| 6/6 [03:42<00:00, 37.12s/it]\n"
     ]
    },
    {
     "name": "stdout",
     "output_type": "stream",
     "text": [
      "**********/work-hmcomm/project/nedo2020_yokogawa/data/PilotPlant_Experiments_2020-0309/wav_cut/2020-03-06_1_ZOOM-H06_Exp02.wav**********\n",
      "(42, 1655)\n"
     ]
    },
    {
     "name": "stderr",
     "output_type": "stream",
     "text": [
      "100%|██████████| 6/6 [02:46<00:00, 27.68s/it]\n"
     ]
    },
    {
     "name": "stdout",
     "output_type": "stream",
     "text": [
      "**********/work-hmcomm/project/nedo2020_yokogawa/data/PilotPlant_Experiments_2020-0309/wav_cut/2020-03-06_1_ZOOM-H06_Exp03.wav**********\n",
      "(42, 1498)\n"
     ]
    },
    {
     "name": "stderr",
     "output_type": "stream",
     "text": [
      "100%|██████████| 6/6 [02:51<00:00, 28.56s/it]\n"
     ]
    },
    {
     "name": "stdout",
     "output_type": "stream",
     "text": [
      "**********/work-hmcomm/project/nedo2020_yokogawa/data/PilotPlant_Experiments_2020-0309/wav_cut/2020-03-06_1_ZOOM-H06_Exp04.wav**********\n",
      "(42, 1498)\n"
     ]
    },
    {
     "name": "stderr",
     "output_type": "stream",
     "text": [
      "100%|██████████| 6/6 [02:48<00:00, 28.03s/it]\n"
     ]
    },
    {
     "name": "stdout",
     "output_type": "stream",
     "text": [
      "**********/work-hmcomm/project/nedo2020_yokogawa/data/PilotPlant_Experiments_2020-0309/wav_cut/2020-03-06_1_ZOOM-H06_Exp05.wav**********\n",
      "(42, 1498)\n"
     ]
    },
    {
     "name": "stderr",
     "output_type": "stream",
     "text": [
      "100%|██████████| 6/6 [11:03<00:00, 110.55s/it]\n"
     ]
    },
    {
     "name": "stdout",
     "output_type": "stream",
     "text": [
      "**********/work-hmcomm/project/nedo2020_yokogawa/data/PilotPlant_Experiments_2020-0309/wav_cut/2020-03-06_1_ZOOM-H06_Exp06.wav**********\n",
      "(42, 4105)\n"
     ]
    },
    {
     "name": "stderr",
     "output_type": "stream",
     "text": [
      "100%|██████████| 6/6 [04:35<00:00, 45.99s/it]\n"
     ]
    },
    {
     "name": "stdout",
     "output_type": "stream",
     "text": [
      "**********/work-hmcomm/project/nedo2020_yokogawa/data/PilotPlant_Experiments_2020-0309/wav_cut/2020-03-06_1_ZOOM-H06_Exp07.wav**********\n",
      "(42, 1985)\n"
     ]
    },
    {
     "name": "stderr",
     "output_type": "stream",
     "text": [
      "100%|██████████| 6/6 [02:50<00:00, 28.40s/it]\n"
     ]
    },
    {
     "name": "stdout",
     "output_type": "stream",
     "text": [
      "**********/work-hmcomm/project/nedo2020_yokogawa/data/PilotPlant_Experiments_2020-0309/wav_cut/2020-03-06_1_ZOOM-H06_Exp08.wav**********\n",
      "(42, 1498)\n"
     ]
    },
    {
     "name": "stderr",
     "output_type": "stream",
     "text": [
      "100%|██████████| 6/6 [02:51<00:00, 28.56s/it]\n"
     ]
    },
    {
     "name": "stdout",
     "output_type": "stream",
     "text": [
      "**********/work-hmcomm/project/nedo2020_yokogawa/data/PilotPlant_Experiments_2020-0309/wav_cut/2020-03-06_1_ZOOM-H06_Exp09.wav**********\n",
      "(42, 1498)\n"
     ]
    },
    {
     "name": "stderr",
     "output_type": "stream",
     "text": [
      "100%|██████████| 6/6 [02:47<00:00, 27.84s/it]\n"
     ]
    },
    {
     "name": "stdout",
     "output_type": "stream",
     "text": [
      "**********/work-hmcomm/project/nedo2020_yokogawa/data/PilotPlant_Experiments_2020-0309/wav_cut/2020-03-06_1_ZOOM-H06_Exp10.wav**********\n",
      "(42, 1498)\n"
     ]
    },
    {
     "name": "stderr",
     "output_type": "stream",
     "text": [
      "100%|██████████| 6/6 [18:46<00:00, 187.70s/it]\n"
     ]
    },
    {
     "name": "stdout",
     "output_type": "stream",
     "text": [
      "**********/work-hmcomm/project/nedo2020_yokogawa/data/PilotPlant_Experiments_2020-0309/wav_cut/2020-03-06_1_ZOOM-H06_Exp11.wav**********\n",
      "(42, 8527)\n"
     ]
    },
    {
     "name": "stderr",
     "output_type": "stream",
     "text": [
      "100%|██████████| 6/6 [03:38<00:00, 36.48s/it]\n"
     ]
    },
    {
     "name": "stdout",
     "output_type": "stream",
     "text": [
      "**********/work-hmcomm/project/nedo2020_yokogawa/data/PilotPlant_Experiments_2020-0309/wav_cut/2020-03-06_5_ZOOM-H06_Exp02.wav**********\n",
      "(42, 1655)\n"
     ]
    },
    {
     "name": "stderr",
     "output_type": "stream",
     "text": [
      "100%|██████████| 6/6 [02:49<00:00, 28.27s/it]\n"
     ]
    },
    {
     "name": "stdout",
     "output_type": "stream",
     "text": [
      "**********/work-hmcomm/project/nedo2020_yokogawa/data/PilotPlant_Experiments_2020-0309/wav_cut/2020-03-06_5_ZOOM-H06_Exp03.wav**********\n",
      "(42, 1498)\n"
     ]
    },
    {
     "name": "stderr",
     "output_type": "stream",
     "text": [
      "100%|██████████| 6/6 [02:47<00:00, 27.92s/it]\n"
     ]
    },
    {
     "name": "stdout",
     "output_type": "stream",
     "text": [
      "**********/work-hmcomm/project/nedo2020_yokogawa/data/PilotPlant_Experiments_2020-0309/wav_cut/2020-03-06_5_ZOOM-H06_Exp04.wav**********\n",
      "(42, 1498)\n"
     ]
    },
    {
     "name": "stderr",
     "output_type": "stream",
     "text": [
      "100%|██████████| 6/6 [02:54<00:00, 29.04s/it]\n"
     ]
    },
    {
     "name": "stdout",
     "output_type": "stream",
     "text": [
      "**********/work-hmcomm/project/nedo2020_yokogawa/data/PilotPlant_Experiments_2020-0309/wav_cut/2020-03-06_5_ZOOM-H06_Exp05.wav**********\n",
      "(42, 1498)\n"
     ]
    },
    {
     "name": "stderr",
     "output_type": "stream",
     "text": [
      "100%|██████████| 6/6 [11:00<00:00, 110.14s/it]\n"
     ]
    },
    {
     "name": "stdout",
     "output_type": "stream",
     "text": [
      "**********/work-hmcomm/project/nedo2020_yokogawa/data/PilotPlant_Experiments_2020-0309/wav_cut/2020-03-06_5_ZOOM-H06_Exp06.wav**********\n",
      "(42, 4105)\n"
     ]
    },
    {
     "name": "stderr",
     "output_type": "stream",
     "text": [
      "100%|██████████| 6/6 [04:25<00:00, 44.28s/it]\n"
     ]
    },
    {
     "name": "stdout",
     "output_type": "stream",
     "text": [
      "**********/work-hmcomm/project/nedo2020_yokogawa/data/PilotPlant_Experiments_2020-0309/wav_cut/2020-03-06_5_ZOOM-H06_Exp07.wav**********\n",
      "(42, 1985)\n"
     ]
    },
    {
     "name": "stderr",
     "output_type": "stream",
     "text": [
      "100%|██████████| 6/6 [02:47<00:00, 27.91s/it]\n"
     ]
    },
    {
     "name": "stdout",
     "output_type": "stream",
     "text": [
      "**********/work-hmcomm/project/nedo2020_yokogawa/data/PilotPlant_Experiments_2020-0309/wav_cut/2020-03-06_5_ZOOM-H06_Exp08.wav**********\n",
      "(42, 1498)\n"
     ]
    },
    {
     "name": "stderr",
     "output_type": "stream",
     "text": [
      "100%|██████████| 6/6 [02:42<00:00, 27.10s/it]\n"
     ]
    },
    {
     "name": "stdout",
     "output_type": "stream",
     "text": [
      "**********/work-hmcomm/project/nedo2020_yokogawa/data/PilotPlant_Experiments_2020-0309/wav_cut/2020-03-06_5_ZOOM-H06_Exp09.wav**********\n",
      "(42, 1498)\n"
     ]
    },
    {
     "name": "stderr",
     "output_type": "stream",
     "text": [
      "100%|██████████| 6/6 [02:42<00:00, 27.01s/it]\n"
     ]
    },
    {
     "name": "stdout",
     "output_type": "stream",
     "text": [
      "**********/work-hmcomm/project/nedo2020_yokogawa/data/PilotPlant_Experiments_2020-0309/wav_cut/2020-03-06_5_ZOOM-H06_Exp10.wav**********\n",
      "(42, 1498)\n"
     ]
    },
    {
     "name": "stderr",
     "output_type": "stream",
     "text": [
      "100%|██████████| 6/6 [24:53<00:00, 249.00s/it]\n"
     ]
    },
    {
     "name": "stdout",
     "output_type": "stream",
     "text": [
      "**********/work-hmcomm/project/nedo2020_yokogawa/data/PilotPlant_Experiments_2020-0309/wav_cut/2020-03-06_5_ZOOM-H06_Exp11.wav**********\n",
      "(42, 8692)\n"
     ]
    },
    {
     "name": "stderr",
     "output_type": "stream",
     "text": [
      "100%|██████████| 6/6 [03:37<00:00, 36.31s/it]\n"
     ]
    },
    {
     "name": "stdout",
     "output_type": "stream",
     "text": [
      "**********/work-hmcomm/project/nedo2020_yokogawa/data/PilotPlant_Experiments_2020-0309/wav_cut/2020-03-06_6_TAS-D100_Exp02.wav**********\n",
      "(42, 1655)\n"
     ]
    },
    {
     "name": "stderr",
     "output_type": "stream",
     "text": [
      "100%|██████████| 6/6 [02:54<00:00, 29.13s/it]\n"
     ]
    },
    {
     "name": "stdout",
     "output_type": "stream",
     "text": [
      "**********/work-hmcomm/project/nedo2020_yokogawa/data/PilotPlant_Experiments_2020-0309/wav_cut/2020-03-06_6_TAS-D100_Exp03.wav**********\n",
      "(42, 1498)\n"
     ]
    },
    {
     "name": "stderr",
     "output_type": "stream",
     "text": [
      "100%|██████████| 6/6 [02:48<00:00, 28.07s/it]\n"
     ]
    },
    {
     "name": "stdout",
     "output_type": "stream",
     "text": [
      "**********/work-hmcomm/project/nedo2020_yokogawa/data/PilotPlant_Experiments_2020-0309/wav_cut/2020-03-06_6_TAS-D100_Exp04.wav**********\n",
      "(42, 1498)\n"
     ]
    },
    {
     "name": "stderr",
     "output_type": "stream",
     "text": [
      "100%|██████████| 6/6 [02:53<00:00, 28.96s/it]\n"
     ]
    },
    {
     "name": "stdout",
     "output_type": "stream",
     "text": [
      "**********/work-hmcomm/project/nedo2020_yokogawa/data/PilotPlant_Experiments_2020-0309/wav_cut/2020-03-06_6_TAS-D100_Exp05.wav**********\n",
      "(42, 1498)\n"
     ]
    },
    {
     "name": "stderr",
     "output_type": "stream",
     "text": [
      "100%|██████████| 6/6 [01:11<00:00, 11.88s/it]\n"
     ]
    },
    {
     "name": "stdout",
     "output_type": "stream",
     "text": [
      "**********/work-hmcomm/project/nedo2020_yokogawa/data/PilotPlant_Experiments_2020-0309/wav_cut/2020-03-06_6_TAS-D100_Exp06.wav**********\n",
      "(42, 570)\n"
     ]
    },
    {
     "name": "stderr",
     "output_type": "stream",
     "text": [
      "100%|██████████| 6/6 [04:28<00:00, 44.76s/it]\n"
     ]
    },
    {
     "name": "stdout",
     "output_type": "stream",
     "text": [
      "**********/work-hmcomm/project/nedo2020_yokogawa/data/PilotPlant_Experiments_2020-0309/wav_cut/2020-03-06_6_TAS-D100_Exp07.wav**********\n",
      "(42, 1985)\n"
     ]
    },
    {
     "name": "stderr",
     "output_type": "stream",
     "text": [
      "100%|██████████| 6/6 [02:51<00:00, 28.56s/it]\n"
     ]
    },
    {
     "name": "stdout",
     "output_type": "stream",
     "text": [
      "**********/work-hmcomm/project/nedo2020_yokogawa/data/PilotPlant_Experiments_2020-0309/wav_cut/2020-03-06_6_TAS-D100_Exp08.wav**********\n",
      "(42, 1498)\n"
     ]
    },
    {
     "name": "stderr",
     "output_type": "stream",
     "text": [
      "100%|██████████| 6/6 [02:42<00:00, 27.11s/it]\n"
     ]
    },
    {
     "name": "stdout",
     "output_type": "stream",
     "text": [
      "**********/work-hmcomm/project/nedo2020_yokogawa/data/PilotPlant_Experiments_2020-0309/wav_cut/2020-03-06_6_TAS-D100_Exp09.wav**********\n",
      "(42, 1498)\n"
     ]
    },
    {
     "name": "stderr",
     "output_type": "stream",
     "text": [
      "100%|██████████| 6/6 [02:51<00:00, 28.54s/it]\n"
     ]
    },
    {
     "name": "stdout",
     "output_type": "stream",
     "text": [
      "**********/work-hmcomm/project/nedo2020_yokogawa/data/PilotPlant_Experiments_2020-0309/wav_cut/2020-03-06_6_TAS-D100_Exp10.wav**********\n",
      "(42, 1498)\n"
     ]
    },
    {
     "name": "stderr",
     "output_type": "stream",
     "text": [
      "100%|██████████| 6/6 [21:07<00:00, 211.27s/it]\n"
     ]
    },
    {
     "name": "stdout",
     "output_type": "stream",
     "text": [
      "**********/work-hmcomm/project/nedo2020_yokogawa/data/PilotPlant_Experiments_2020-0309/wav_cut/2020-03-06_6_TAS-D100_Exp11.wav**********\n",
      "(42, 8661)\n"
     ]
    },
    {
     "name": "stderr",
     "output_type": "stream",
     "text": [
      "100%|██████████| 6/6 [03:36<00:00, 36.11s/it]\n"
     ]
    },
    {
     "name": "stdout",
     "output_type": "stream",
     "text": [
      "**********/work-hmcomm/project/nedo2020_yokogawa/data/PilotPlant_Experiments_2020-0309/wav_cut/2020-03-06_2_ZOOM-H06_Exp02.wav**********\n",
      "(42, 1655)\n"
     ]
    },
    {
     "name": "stderr",
     "output_type": "stream",
     "text": [
      "100%|██████████| 6/6 [02:48<00:00, 28.00s/it]\n"
     ]
    },
    {
     "name": "stdout",
     "output_type": "stream",
     "text": [
      "**********/work-hmcomm/project/nedo2020_yokogawa/data/PilotPlant_Experiments_2020-0309/wav_cut/2020-03-06_2_ZOOM-H06_Exp03.wav**********\n",
      "(42, 1498)\n"
     ]
    },
    {
     "name": "stderr",
     "output_type": "stream",
     "text": [
      "100%|██████████| 6/6 [02:42<00:00, 27.12s/it]\n"
     ]
    },
    {
     "name": "stdout",
     "output_type": "stream",
     "text": [
      "**********/work-hmcomm/project/nedo2020_yokogawa/data/PilotPlant_Experiments_2020-0309/wav_cut/2020-03-06_2_ZOOM-H06_Exp04.wav**********\n",
      "(42, 1498)\n"
     ]
    },
    {
     "name": "stderr",
     "output_type": "stream",
     "text": [
      "100%|██████████| 6/6 [02:45<00:00, 27.51s/it]\n"
     ]
    },
    {
     "name": "stdout",
     "output_type": "stream",
     "text": [
      "**********/work-hmcomm/project/nedo2020_yokogawa/data/PilotPlant_Experiments_2020-0309/wav_cut/2020-03-06_2_ZOOM-H06_Exp05.wav**********\n",
      "(42, 1498)\n"
     ]
    },
    {
     "name": "stderr",
     "output_type": "stream",
     "text": [
      "100%|██████████| 6/6 [10:33<00:00, 105.63s/it]\n"
     ]
    },
    {
     "name": "stdout",
     "output_type": "stream",
     "text": [
      "**********/work-hmcomm/project/nedo2020_yokogawa/data/PilotPlant_Experiments_2020-0309/wav_cut/2020-03-06_2_ZOOM-H06_Exp06.wav**********\n",
      "(42, 4105)\n"
     ]
    },
    {
     "name": "stderr",
     "output_type": "stream",
     "text": [
      "100%|██████████| 6/6 [04:21<00:00, 43.53s/it]\n"
     ]
    },
    {
     "name": "stdout",
     "output_type": "stream",
     "text": [
      "**********/work-hmcomm/project/nedo2020_yokogawa/data/PilotPlant_Experiments_2020-0309/wav_cut/2020-03-06_2_ZOOM-H06_Exp07.wav**********\n",
      "(42, 1985)\n"
     ]
    },
    {
     "name": "stderr",
     "output_type": "stream",
     "text": [
      "100%|██████████| 6/6 [02:37<00:00, 26.26s/it]\n"
     ]
    },
    {
     "name": "stdout",
     "output_type": "stream",
     "text": [
      "**********/work-hmcomm/project/nedo2020_yokogawa/data/PilotPlant_Experiments_2020-0309/wav_cut/2020-03-06_2_ZOOM-H06_Exp08.wav**********\n",
      "(42, 1498)\n"
     ]
    },
    {
     "name": "stderr",
     "output_type": "stream",
     "text": [
      "100%|██████████| 6/6 [02:45<00:00, 27.57s/it]\n"
     ]
    },
    {
     "name": "stdout",
     "output_type": "stream",
     "text": [
      "**********/work-hmcomm/project/nedo2020_yokogawa/data/PilotPlant_Experiments_2020-0309/wav_cut/2020-03-06_2_ZOOM-H06_Exp09.wav**********\n",
      "(42, 1498)\n"
     ]
    },
    {
     "name": "stderr",
     "output_type": "stream",
     "text": [
      "100%|██████████| 6/6 [02:40<00:00, 26.67s/it]\n"
     ]
    },
    {
     "name": "stdout",
     "output_type": "stream",
     "text": [
      "**********/work-hmcomm/project/nedo2020_yokogawa/data/PilotPlant_Experiments_2020-0309/wav_cut/2020-03-06_2_ZOOM-H06_Exp10.wav**********\n",
      "(42, 1498)\n"
     ]
    },
    {
     "name": "stderr",
     "output_type": "stream",
     "text": [
      "100%|██████████| 6/6 [21:58<00:00, 219.78s/it]\n"
     ]
    },
    {
     "name": "stdout",
     "output_type": "stream",
     "text": [
      "**********/work-hmcomm/project/nedo2020_yokogawa/data/PilotPlant_Experiments_2020-0309/wav_cut/2020-03-06_2_ZOOM-H06_Exp11.wav**********\n",
      "(42, 8520)\n"
     ]
    },
    {
     "name": "stderr",
     "output_type": "stream",
     "text": [
      "100%|██████████| 6/6 [03:32<00:00, 35.40s/it]\n"
     ]
    },
    {
     "name": "stdout",
     "output_type": "stream",
     "text": [
      "**********/work-hmcomm/project/nedo2020_yokogawa/data/PilotPlant_Experiments_2020-0309/wav_cut/2020-03-06_3_PCM-D100_Exp02.wav**********\n",
      "(42, 1655)\n"
     ]
    },
    {
     "name": "stderr",
     "output_type": "stream",
     "text": [
      "100%|██████████| 6/6 [02:51<00:00, 28.58s/it]\n"
     ]
    },
    {
     "name": "stdout",
     "output_type": "stream",
     "text": [
      "**********/work-hmcomm/project/nedo2020_yokogawa/data/PilotPlant_Experiments_2020-0309/wav_cut/2020-03-06_3_PCM-D100_Exp03.wav**********\n",
      "(42, 1498)\n"
     ]
    },
    {
     "name": "stderr",
     "output_type": "stream",
     "text": [
      "100%|██████████| 6/6 [02:45<00:00, 27.66s/it]\n"
     ]
    },
    {
     "name": "stdout",
     "output_type": "stream",
     "text": [
      "**********/work-hmcomm/project/nedo2020_yokogawa/data/PilotPlant_Experiments_2020-0309/wav_cut/2020-03-06_3_PCM-D100_Exp04.wav**********\n",
      "(42, 1498)\n"
     ]
    },
    {
     "name": "stderr",
     "output_type": "stream",
     "text": [
      "100%|██████████| 6/6 [02:48<00:00, 28.10s/it]\n"
     ]
    },
    {
     "name": "stdout",
     "output_type": "stream",
     "text": [
      "**********/work-hmcomm/project/nedo2020_yokogawa/data/PilotPlant_Experiments_2020-0309/wav_cut/2020-03-06_3_PCM-D100_Exp05.wav**********\n",
      "(42, 1498)\n"
     ]
    },
    {
     "name": "stderr",
     "output_type": "stream",
     "text": [
      "100%|██████████| 6/6 [08:39<00:00, 86.53s/it]\n"
     ]
    },
    {
     "name": "stdout",
     "output_type": "stream",
     "text": [
      "**********/work-hmcomm/project/nedo2020_yokogawa/data/PilotPlant_Experiments_2020-0309/wav_cut/2020-03-06_3_PCM-D100_Exp06.wav**********\n",
      "(42, 4117)\n"
     ]
    },
    {
     "name": "stderr",
     "output_type": "stream",
     "text": [
      "100%|██████████| 6/6 [04:21<00:00, 43.59s/it]\n"
     ]
    },
    {
     "name": "stdout",
     "output_type": "stream",
     "text": [
      "**********/work-hmcomm/project/nedo2020_yokogawa/data/PilotPlant_Experiments_2020-0309/wav_cut/2020-03-06_3_PCM-D100_Exp07.wav**********\n",
      "(42, 1985)\n"
     ]
    },
    {
     "name": "stderr",
     "output_type": "stream",
     "text": [
      "100%|██████████| 6/6 [02:49<00:00, 28.17s/it]\n"
     ]
    },
    {
     "name": "stdout",
     "output_type": "stream",
     "text": [
      "**********/work-hmcomm/project/nedo2020_yokogawa/data/PilotPlant_Experiments_2020-0309/wav_cut/2020-03-06_3_PCM-D100_Exp08.wav**********\n",
      "(42, 1498)\n"
     ]
    },
    {
     "name": "stderr",
     "output_type": "stream",
     "text": [
      "100%|██████████| 6/6 [02:45<00:00, 27.53s/it]\n"
     ]
    },
    {
     "name": "stdout",
     "output_type": "stream",
     "text": [
      "**********/work-hmcomm/project/nedo2020_yokogawa/data/PilotPlant_Experiments_2020-0309/wav_cut/2020-03-06_3_PCM-D100_Exp09.wav**********\n",
      "(42, 1498)\n"
     ]
    },
    {
     "name": "stderr",
     "output_type": "stream",
     "text": [
      "100%|██████████| 6/6 [02:55<00:00, 29.23s/it]\n"
     ]
    },
    {
     "name": "stdout",
     "output_type": "stream",
     "text": [
      "**********/work-hmcomm/project/nedo2020_yokogawa/data/PilotPlant_Experiments_2020-0309/wav_cut/2020-03-06_3_PCM-D100_Exp10.wav**********\n",
      "(42, 1498)\n"
     ]
    },
    {
     "name": "stderr",
     "output_type": "stream",
     "text": [
      "100%|██████████| 6/6 [24:14<00:00, 242.41s/it]\n"
     ]
    },
    {
     "name": "stdout",
     "output_type": "stream",
     "text": [
      "**********/work-hmcomm/project/nedo2020_yokogawa/data/PilotPlant_Experiments_2020-0309/wav_cut/2020-03-06_3_PCM-D100_Exp11.wav**********\n",
      "(42, 8586)\n"
     ]
    },
    {
     "name": "stderr",
     "output_type": "stream",
     "text": [
      "100%|██████████| 6/6 [03:31<00:00, 35.23s/it]\n"
     ]
    },
    {
     "name": "stdout",
     "output_type": "stream",
     "text": [
      "**********/work-hmcomm/project/nedo2020_yokogawa/data/PilotPlant_Experiments_2020-0309/wav_cut/2020-03-06_4_TAS-D040_Exp02.wav**********\n",
      "(42, 1655)\n"
     ]
    },
    {
     "name": "stderr",
     "output_type": "stream",
     "text": [
      "100%|██████████| 6/6 [02:48<00:00, 28.15s/it]\n"
     ]
    },
    {
     "name": "stdout",
     "output_type": "stream",
     "text": [
      "**********/work-hmcomm/project/nedo2020_yokogawa/data/PilotPlant_Experiments_2020-0309/wav_cut/2020-03-06_4_TAS-D040_Exp03.wav**********\n",
      "(42, 1498)\n"
     ]
    },
    {
     "name": "stderr",
     "output_type": "stream",
     "text": [
      "100%|██████████| 6/6 [02:48<00:00, 28.09s/it]\n"
     ]
    },
    {
     "name": "stdout",
     "output_type": "stream",
     "text": [
      "**********/work-hmcomm/project/nedo2020_yokogawa/data/PilotPlant_Experiments_2020-0309/wav_cut/2020-03-06_4_TAS-D040_Exp04.wav**********\n",
      "(42, 1498)\n"
     ]
    },
    {
     "name": "stderr",
     "output_type": "stream",
     "text": [
      "100%|██████████| 6/6 [02:46<00:00, 27.71s/it]\n"
     ]
    },
    {
     "name": "stdout",
     "output_type": "stream",
     "text": [
      "**********/work-hmcomm/project/nedo2020_yokogawa/data/PilotPlant_Experiments_2020-0309/wav_cut/2020-03-06_4_TAS-D040_Exp05.wav**********\n",
      "(42, 1498)\n"
     ]
    },
    {
     "name": "stderr",
     "output_type": "stream",
     "text": [
      "100%|██████████| 6/6 [09:08<00:00, 91.44s/it]\n"
     ]
    },
    {
     "name": "stdout",
     "output_type": "stream",
     "text": [
      "**********/work-hmcomm/project/nedo2020_yokogawa/data/PilotPlant_Experiments_2020-0309/wav_cut/2020-03-06_4_TAS-D040_Exp06.wav**********\n",
      "(42, 4102)\n"
     ]
    },
    {
     "name": "stderr",
     "output_type": "stream",
     "text": [
      "100%|██████████| 6/6 [04:20<00:00, 43.40s/it]\n"
     ]
    },
    {
     "name": "stdout",
     "output_type": "stream",
     "text": [
      "**********/work-hmcomm/project/nedo2020_yokogawa/data/PilotPlant_Experiments_2020-0309/wav_cut/2020-03-06_4_TAS-D040_Exp07.wav**********\n",
      "(42, 1985)\n"
     ]
    },
    {
     "name": "stderr",
     "output_type": "stream",
     "text": [
      "100%|██████████| 6/6 [02:47<00:00, 27.92s/it]\n"
     ]
    },
    {
     "name": "stdout",
     "output_type": "stream",
     "text": [
      "**********/work-hmcomm/project/nedo2020_yokogawa/data/PilotPlant_Experiments_2020-0309/wav_cut/2020-03-06_4_TAS-D040_Exp08.wav**********\n",
      "(42, 1498)\n"
     ]
    },
    {
     "name": "stderr",
     "output_type": "stream",
     "text": [
      "100%|██████████| 6/6 [02:50<00:00, 28.36s/it]\n"
     ]
    },
    {
     "name": "stdout",
     "output_type": "stream",
     "text": [
      "**********/work-hmcomm/project/nedo2020_yokogawa/data/PilotPlant_Experiments_2020-0309/wav_cut/2020-03-06_4_TAS-D040_Exp09.wav**********\n",
      "(42, 1498)\n"
     ]
    },
    {
     "name": "stderr",
     "output_type": "stream",
     "text": [
      "100%|██████████| 6/6 [02:42<00:00, 27.12s/it]\n"
     ]
    },
    {
     "name": "stdout",
     "output_type": "stream",
     "text": [
      "**********/work-hmcomm/project/nedo2020_yokogawa/data/PilotPlant_Experiments_2020-0309/wav_cut/2020-03-06_4_TAS-D040_Exp10.wav**********\n",
      "(42, 1498)\n"
     ]
    },
    {
     "name": "stderr",
     "output_type": "stream",
     "text": [
      "100%|██████████| 6/6 [23:53<00:00, 238.91s/it]"
     ]
    },
    {
     "name": "stdout",
     "output_type": "stream",
     "text": [
      "**********/work-hmcomm/project/nedo2020_yokogawa/data/PilotPlant_Experiments_2020-0309/wav_cut/2020-03-06_4_TAS-D040_Exp11.wav**********\n",
      "(42, 8722)\n"
     ]
    },
    {
     "name": "stderr",
     "output_type": "stream",
     "text": [
      "\n"
     ]
    }
   ],
   "source": [
    "start = 0\n",
    "Fs = fs\n",
    "\n",
    "widths = np.exp(np.arange(1, 7, 0.1))\n",
    "\n",
    "for i in range(len(wav_list)):\n",
    "    \n",
    "    cwt_ave_sum = []\n",
    "    wavpath = wav_list[i]\n",
    "    _, a =   parse_audio_from_wav(wavpath,sample_rate=fs)\n",
    "    wavdata = a[:,1]\n",
    "    \n",
    "    for j in tqdm(np.arange(1, 7)):\n",
    "\n",
    "        if(j<=5):\n",
    "            widths = np.exp(np.arange(j, j+1, 0.15))\n",
    "        else:\n",
    "            widths = np.exp(np.arange(j, j+1, 0.15))\n",
    "\n",
    "        cwtmatr, freqs = pywt.cwt(wavdata, widths, 'morl', sampling_period=1/Fs, method='fft')\n",
    "        # cwtmatr += np.abs(np.min(cwtmatr))\n",
    "        np.set_printoptions(suppress=True)\n",
    "        # print(freqs)\n",
    "        # plt.figure(figsize=(12, 4))\n",
    "        # plt.imshow(np.abs(cwtmatr),  extent=[0, len(cwtmatr[0]), 0, len(widths)], cmap='PRGn', aspect='auto',\n",
    "        #             vmax=abs(cwtmatr).max(), vmin=-abs(cwtmatr).max()) \n",
    "\n",
    "\n",
    "        win_length=0.4*fs\n",
    "        hop_length=0.2*fs\n",
    "        start = 0\n",
    "        cwtmatr = np.abs(cwtmatr)\n",
    "        cwt_ave = []\n",
    "\n",
    "        num_signal = int((len(cwtmatr[0]) - win_length) / hop_length) + 1\n",
    "        for i in range(num_signal):\n",
    "\n",
    "            con_cwt = cwtmatr[:,int(start):int(start+win_length)]\n",
    "            cwt_ave.append(np.log(np.array(np.average(con_cwt ,axis=1))))\n",
    "            \n",
    "            start += hop_length\n",
    "\n",
    "#         cwt_ave = np.array(cwt_ave).T\n",
    "        cwt_ave_sum.extend(np.array(cwt_ave).T)\n",
    "    print('**********'+wavpath+'**********')\n",
    "    cwt_ave_sum = np.array(cwt_ave_sum)\n",
    "    print(cwt_ave_sum.shape)\n",
    "    savename = savepath + wavpath[85:-4] + '_scalogram_S200W400_right.npy' \n",
    "    np.save(savename, cwt_ave_sum)"
   ]
  },
  {
   "cell_type": "code",
   "execution_count": 7,
   "metadata": {},
   "outputs": [
    {
     "data": {
      "text/plain": [
       "array([  2.71828183,   3.15819291,   3.66929667,   4.26311452,\n",
       "         4.95303242,   5.75460268,   6.68589444,   7.76790111,\n",
       "         9.0250135 ,  10.48556972,  12.18249396,  14.15403865,\n",
       "        16.44464677,  19.10595373,  22.19795128,  25.79033992,\n",
       "        29.96410005,  34.81331749,  40.44730436,  46.99306323,\n",
       "        54.59815003,  63.4340003 ,  73.6997937 ,  85.626944  ,\n",
       "        99.48431564, 115.58428453, 134.28977968, 156.02246449,\n",
       "       181.27224188, 210.60829787, 244.69193226, 284.29146582,\n",
       "       330.29955991, 383.75333906, 445.85777008, 518.01282467,\n",
       "       601.84503787, 699.24417382, 812.40582517, 943.88090667])"
      ]
     },
     "execution_count": 7,
     "metadata": {},
     "output_type": "execute_result"
    }
   ],
   "source": [
    "widths = np.exp(np.arange(1, 7, 0.15))\n",
    "widths"
   ]
  },
  {
   "cell_type": "code",
   "execution_count": 27,
   "metadata": {},
   "outputs": [
    {
     "name": "stdout",
     "output_type": "stream",
     "text": [
      "[28694.59641137 24697.66801157 21257.47985665 18296.48247132\n",
      " 15747.92840358 13554.36758913 11666.35229937 10041.32247985\n",
      "  8642.64635226  7438.79465281  6402.62989266  5510.79461871\n",
      "  4743.18488477  4082.49706398  3513.8377867   3024.38821087\n",
      "  2603.11505691  2240.52189303  1928.43506469  1659.81944219\n",
      "  1428.61983332  1229.62448582  1058.34760295   910.92822369\n",
      "   784.04318808   674.83222584   580.83347953   499.92800881\n",
      "   430.29202482   370.35577795   318.7681722    274.36630844\n",
      "   236.14927014   203.25556044   174.94368212   150.57542263\n",
      "   129.60146731   111.54901667    96.01112841    82.63754405]\n",
      "CPU times: user 27min 22s, sys: 19min 19s, total: 46min 42s\n",
      "Wall time: 13min 30s\n"
     ]
    },
    {
     "data": {
      "text/plain": [
       "(40, 28793856)"
      ]
     },
     "execution_count": 27,
     "metadata": {},
     "output_type": "execute_result"
    },
    {
     "data": {
      "text/plain": [
       "<Figure size 864x288 with 0 Axes>"
      ]
     },
     "metadata": {},
     "output_type": "display_data"
    }
   ],
   "source": [
    "%%time\n",
    "\n",
    "widths\n",
    "Fs = fs\n",
    "cwtmatr, freqs = pywt.cwt(wavdata_, widths, 'morl', sampling_period=1/Fs)\n",
    "# cwtmatr += np.abs(np.min(cwtmatr))\n",
    "np.set_printoptions(suppress=True)\n",
    "print(freqs)\n",
    "plt.figure(figsize=(12, 4))\n",
    "# plt.imshow(np.abs(cwtmatr),  extent=[0, len(cwtmatr[0]), 0, len(widths)], cmap='PRGn', aspect='auto',\n",
    "#             vmax=abs(cwtmatr).max(), vmin=-abs(cwtmatr).max()) \n",
    "cwtmatr.shape"
   ]
  },
  {
   "cell_type": "code",
   "execution_count": 28,
   "metadata": {},
   "outputs": [
    {
     "name": "stderr",
     "output_type": "stream",
     "text": [
      "100%|██████████| 1498/1498 [00:01<00:00, 1168.31it/s]\n"
     ]
    },
    {
     "data": {
      "text/plain": [
       "<Figure size 864x288 with 0 Axes>"
      ]
     },
     "execution_count": 28,
     "metadata": {},
     "output_type": "execute_result"
    },
    {
     "data": {
      "text/plain": [
       "<Figure size 864x288 with 0 Axes>"
      ]
     },
     "metadata": {},
     "output_type": "display_data"
    }
   ],
   "source": [
    "\n",
    "win_length=0.4*fs\n",
    "hop_length=0.2*fs\n",
    "start = 0\n",
    "cwtmatr = np.abs(cwtmatr)\n",
    "cwt_ave = []\n",
    "\n",
    "num_signal = int((len(cwtmatr[0]) - win_length) / hop_length) + 1\n",
    "for i in tqdm(range(num_signal)):\n",
    "\n",
    "    con_cwt = cwtmatr[:,int(start):int(start+win_length)]\n",
    "    cwt_ave.append(np.array(np.average(con_cwt ,axis=1)))\n",
    "#     if(i==0):\n",
    "#         cwt_ave = np.average(con_cwt ,axis=1)\n",
    "#     else:\n",
    "#         cwt_ave = np.vstack([cwt_ave, np.average(con_cwt ,axis=1)])\n",
    "#     start += hop_length\n",
    "#     break\n",
    "\n",
    "plt.figure(figsize=(12, 4))\n",
    "# plt.imshow(cwt_ave.T,  extent=[0, len(cwt_ave.T[0]), 0, len(widths)], cmap='PRGn', aspect='auto',\n",
    "#             vmax=abs(cwt_ave.T).max(), vmin=-abs(cwt_ave.T).max()) \n",
    "# cwt_ave.T[1]"
   ]
  },
  {
   "cell_type": "code",
   "execution_count": 13,
   "metadata": {},
   "outputs": [
    {
     "data": {
      "text/plain": [
       "array([[5.40299924e+06, 5.40299924e+06, 5.40299924e+06, ...,\n",
       "        5.40299924e+06, 5.40299924e+06, 5.40299924e+06],\n",
       "       [8.32306376e+06, 8.32306376e+06, 8.32306376e+06, ...,\n",
       "        8.32306376e+06, 8.32306376e+06, 8.32306376e+06],\n",
       "       [1.28420653e+07, 1.28420653e+07, 1.28420653e+07, ...,\n",
       "        1.28420653e+07, 1.28420653e+07, 1.28420653e+07],\n",
       "       ...,\n",
       "       [2.53887318e+08, 2.53887318e+08, 2.53887318e+08, ...,\n",
       "        2.53887318e+08, 2.53887318e+08, 2.53887318e+08],\n",
       "       [2.41329505e+08, 2.41329505e+08, 2.41329505e+08, ...,\n",
       "        2.41329505e+08, 2.41329505e+08, 2.41329505e+08],\n",
       "       [2.55568819e+08, 2.55568819e+08, 2.55568819e+08, ...,\n",
       "        2.55568819e+08, 2.55568819e+08, 2.55568819e+08]])"
      ]
     },
     "execution_count": 13,
     "metadata": {},
     "output_type": "execute_result"
    }
   ],
   "source": [
    "cwt_ave = np.array(cwt_ave).T"
   ]
  },
  {
   "cell_type": "code",
   "execution_count": 8,
   "metadata": {},
   "outputs": [
    {
     "data": {
      "text/plain": [
       "'/work-hmcomm/project/nedo2020_yokogawa/data/PilotPlant_Experiments_2020-0309/feature/extracted_on_2020-06-01_scalogram/2020-03-06_1_ZOOM-H06_Exp08_scalogram_S200W400_lety.npy'"
      ]
     },
     "execution_count": 8,
     "metadata": {},
     "output_type": "execute_result"
    }
   ],
   "source": [
    "savename = savepath + wav_list[0][85:-4] + '_scalogram_S200W400_left.npy' \n",
    "savename"
   ]
  },
  {
   "cell_type": "code",
   "execution_count": 10,
   "metadata": {},
   "outputs": [
    {
     "name": "stdout",
     "output_type": "stream",
     "text": [
      "********************\n"
     ]
    }
   ],
   "source": [
    "    print('**********'+'**********')"
   ]
  },
  {
   "cell_type": "code",
   "execution_count": null,
   "metadata": {},
   "outputs": [],
   "source": []
  }
 ],
 "metadata": {
  "kernelspec": {
   "display_name": "Python 3",
   "language": "python",
   "name": "python3"
  },
  "language_info": {
   "codemirror_mode": {
    "name": "ipython",
    "version": 3
   },
   "file_extension": ".py",
   "mimetype": "text/x-python",
   "name": "python",
   "nbconvert_exporter": "python",
   "pygments_lexer": "ipython3",
   "version": "3.6.8"
  }
 },
 "nbformat": 4,
 "nbformat_minor": 4
}
